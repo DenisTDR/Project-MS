{
 "cells": [
  {
   "cell_type": "markdown",
   "metadata": {},
   "source": [
    "##<center> Determinarea matricii fundamentale si a timpului mediu petrecut de un pachet in retea, inainte de a ajunge la destinatie</center>##"
   ]
  },
  {
   "cell_type": "code",
   "execution_count": 25,
   "metadata": {
    "collapsed": false
   },
   "outputs": [],
   "source": [
    "import numpy as np"
   ]
  },
  {
   "cell_type": "code",
   "execution_count": 26,
   "metadata": {
    "collapsed": false
   },
   "outputs": [
    {
     "data": {
      "image/png": "[encoded data removed]",
      "text/plain": [
       "<IPython.core.display.Image object>"
      ]
     },
     "execution_count": 26,
     "metadata": {},
     "output_type": "execute_result"
    }
   ],
   "source": [
    "from IPython.display import Image\n",
    "Image(filename='Imags/MarkovAbsC.png')"
   ]
  },
  {
   "cell_type": "markdown",
   "metadata": {},
   "source": [
    "Citim fisierul ce contine matricea de tranzitie a lantului Markov  absorbant din tema de proiect nr 3:"
   ]
  },
  {
   "cell_type": "code",
   "execution_count": 27,
   "metadata": {
    "collapsed": false
   },
   "outputs": [
    {
     "name": "stdout",
     "output_type": "stream",
     "text": [
      "[[ 0.09  0.21  0.7   0.    0.    0.    0.    0.    0.    0.  ]\n",
      " [ 0.    0.09  0.21  0.7   0.    0.    0.    0.    0.    0.  ]\n",
      " [ 0.    0.    0.09  0.21  0.7   0.    0.    0.    0.    0.  ]\n",
      " [ 0.    0.    0.    0.09  0.21  0.7   0.    0.    0.    0.  ]\n",
      " [ 0.    0.    0.    0.    0.09  0.21  0.7   0.    0.    0.  ]\n",
      " [ 0.    0.    0.    0.    0.    0.09  0.21  0.7   0.    0.  ]\n",
      " [ 0.    0.    0.    0.    0.    0.    0.09  0.21  0.7   0.  ]\n",
      " [ 0.    0.    0.    0.    0.    0.    0.    0.09  0.21  0.7 ]\n",
      " [ 0.    0.    0.    0.    0.    0.    0.    0.    0.3   0.7 ]\n",
      " [ 0.    0.    0.    0.    0.    0.    0.    0.    0.    1.  ]]\n"
     ]
    }
   ],
   "source": [
    "Q=np.loadtxt('Qtrans07.txt')\n",
    "print Q"
   ]
  },
  {
   "cell_type": "markdown",
   "metadata": {
    "collapsed": false
   },
   "source": [
    "Matricea are m linii si n coloane (in mod normal daca implementarea voastra e OK, matricea este patratica)"
   ]
  },
  {
   "cell_type": "code",
   "execution_count": 28,
   "metadata": {
    "collapsed": false
   },
   "outputs": [
    {
     "name": "stdout",
     "output_type": "stream",
     "text": [
      "10\n"
     ]
    }
   ],
   "source": [
    "m, n =Q.shape\n",
    "if m!=n:\n",
    "    raise ValueError('Nu ai construit bine matricea pt ca nu e patratica')\n",
    "print m   "
   ]
  },
  {
   "cell_type": "markdown",
   "metadata": {},
   "source": [
    "Nodul m-1 este nod absorbant, deci nodurile $0,1,\\ldots, m-2$ sunt tranzitorii. Prin urmarea matricea  de tranzitie, $T$, \n",
    "dintre starile tranzitorii este formata din primele m-1 linii si coloane ale matricii globale de tranzitie, Q:"
   ]
  },
  {
   "cell_type": "code",
   "execution_count": 29,
   "metadata": {
    "collapsed": false
   },
   "outputs": [
    {
     "name": "stdout",
     "output_type": "stream",
     "text": [
      "[[ 0.09  0.21  0.7   0.    0.    0.    0.    0.    0.  ]\n",
      " [ 0.    0.09  0.21  0.7   0.    0.    0.    0.    0.  ]\n",
      " [ 0.    0.    0.09  0.21  0.7   0.    0.    0.    0.  ]\n",
      " [ 0.    0.    0.    0.09  0.21  0.7   0.    0.    0.  ]\n",
      " [ 0.    0.    0.    0.    0.09  0.21  0.7   0.    0.  ]\n",
      " [ 0.    0.    0.    0.    0.    0.09  0.21  0.7   0.  ]\n",
      " [ 0.    0.    0.    0.    0.    0.    0.09  0.21  0.7 ]\n",
      " [ 0.    0.    0.    0.    0.    0.    0.    0.09  0.21]\n",
      " [ 0.    0.    0.    0.    0.    0.    0.    0.    0.3 ]]\n"
     ]
    }
   ],
   "source": [
    "T=Q[:m-1, :m-1]\n",
    "print T"
   ]
  },
  {
   "cell_type": "markdown",
   "metadata": {},
   "source": [
    "Calculam inversa matricii $I-T$:"
   ]
  },
  {
   "cell_type": "code",
   "execution_count": 30,
   "metadata": {
    "collapsed": false
   },
   "outputs": [
    {
     "name": "stdout",
     "output_type": "stream",
     "text": [
      "[[ 1.0989  0.2536  0.9038  0.4036  0.7884  0.4924  0.7201  0.545   0.8836]\n",
      " [ 0.      1.0989  0.2536  0.9038  0.4036  0.7884  0.4924  0.7201  0.7085]\n",
      " [ 0.      0.      1.0989  0.2536  0.9038  0.4036  0.7884  0.4924  0.9361]\n",
      " [ 0.      0.      0.      1.0989  0.2536  0.9038  0.4036  0.7884  0.6402]\n",
      " [ 0.      0.      0.      0.      1.0989  0.2536  0.9038  0.4036  1.0249]\n",
      " [ 0.      0.      0.      0.      0.      1.0989  0.2536  0.9038  0.5247]\n",
      " [ 0.      0.      0.      0.      0.      0.      1.0989  0.2536  1.175 ]\n",
      " [ 0.      0.      0.      0.      0.      0.      0.      1.0989  0.3297]\n",
      " [ 0.      0.      0.      0.      0.      0.      0.      0.      1.4286]]\n"
     ]
    }
   ],
   "source": [
    "I=np.eye(m-1)\n",
    "N=np.linalg.inv(I-T)\n",
    "print N.round(4)"
   ]
  },
  {
   "cell_type": "markdown",
   "metadata": {},
   "source": [
    "Timpul mediu petrecut de un pachet in retea inainte de a ajunge la destinatie, este suma elementelor de pe prima linie a matricii $N$:"
   ]
  },
  {
   "cell_type": "code",
   "execution_count": 31,
   "metadata": {
    "collapsed": false
   },
   "outputs": [
    {
     "name": "stdout",
     "output_type": "stream",
     "text": [
      "6.08948590769\n"
     ]
    }
   ],
   "source": [
    "tmedT=np.sum(N[0,:])\n",
    "print tmedT"
   ]
  },
  {
   "cell_type": "code",
   "execution_count": 33,
   "metadata": {
    "collapsed": false
   },
   "outputs": [
    {
     "data": {
      "text/html": [
       "<style>\n",
       "    /*body {\n",
       "        background-color: #F5F5F5;\n",
       "    }*/\n",
       "    div.cell{\n",
       "        width: 900px;\n",
       "        margin-left: 13% !important;\n",
       "        margin-right: auto;\n",
       "    }\n",
       "    #notebook li { /* More space between bullet points */\n",
       "    margin-top:0.8em;\n",
       "    }\n",
       "\n",
       "    h1 {\n",
       "        font-family: 'Alegreya Sans', sans-serif;\n",
       "    }\n",
       "    .text_cell_render h1 {\n",
       "        font-weight: 200;\n",
       "        font-size: 40pt;\n",
       "        line-height: 100%;\n",
       "        color: rgb(8, 66, 133);\n",
       "        margin-bottom: 0em;\n",
       "        margin-top: 0em;\n",
       "        display: block;\n",
       "    }\n",
       "    h2 {\n",
       "        font-family: 'Fenix', serif;\n",
       "        text-indent:1em;\n",
       "    }\n",
       "    .text_cell_render h2 {\n",
       "        font-weight: 200;\n",
       "        font-size: 28pt;\n",
       "        line-height: 100%;\n",
       "        color: rgb(8, 66, 133);\n",
       "        margin-bottom: 1.5em;\n",
       "        margin-top: 0.5em;\n",
       "        display: block;\n",
       "    }\n",
       "    h3 {\n",
       "        font-family: 'Fenix', serif;\n",
       "        %margin-top:12px;\n",
       "        %margin-bottom: 3px;\n",
       "    }\n",
       "    .text_cell_render h3 {\n",
       "        font-weight: 300;\n",
       "        font-size: 18pt;\n",
       "        line-height: 100%;\n",
       "        color: rgb(8, 66, 133);\n",
       "        margin-bottom: 0.5em;\n",
       "        margin-top: 2em;\n",
       "        display: block;\n",
       "    }\n",
       "    h4 {\n",
       "        font-family: 'Fenix', serif;\n",
       "    }\n",
       "    .text_cell_render h4 {\n",
       "        font-weight: 300;\n",
       "        font-size: 16pt;\n",
       "        color: rgb(8, 66, 133);\n",
       "        margin-bottom: 0.5em;\n",
       "        margin-top: 0.5em;\n",
       "        display: block;\n",
       "    }\n",
       "    h5 {\n",
       "        font-family: 'Alegreya Sans', sans-serif;\n",
       "    }\n",
       "    .text_cell_render h5 {\n",
       "        font-weight: 300;\n",
       "        font-style: normal;\n",
       "        font-size: 16pt;\n",
       "        margin-bottom: 0em;\n",
       "        margin-top: 1.5em;\n",
       "        display: block;\n",
       "        }\n",
       "    div.text_cell_render{\n",
       "        font-family: 'Alegreya Sans',Computer Modern, \"Helvetica Neue\", Arial, Helvetica, Geneva, sans-serif;\n",
       "        line-height: 145%;\n",
       "        font-size: 130%;\n",
       "        width:900px;\n",
       "        margin-left:auto;\n",
       "        margin-right:auto;\n",
       "        %text-align:justify;\n",
       "        %text-justify:inter-word;\n",
       "    }\n",
       "    \n",
       "    \n",
       "    code{\n",
       "      font-size: 78%;\n",
       "    }\n",
       "    .rendered_html code{\n",
       "        background-color: transparent;\n",
       "        white-space: inherit;   \n",
       "    }\n",
       "    .prompt{\n",
       "        display: None;\n",
       "     }\n",
       "    .rendered_html code{\n",
       "    background-color: transparent;\n",
       "    }\n",
       "\n",
       "    blockquote{\n",
       "      display:block;\n",
       "      background: #f3f3f3;\n",
       "      font-family: \"Open sans\",verdana,arial,sans-serif;\n",
       "      width:610px;\n",
       "      padding: 15px 15px 15px 15px;\n",
       "      text-align:justify;\n",
       "      text-justify:inter-word;\n",
       "      }\n",
       "      blockquote p {\n",
       "        margin-bottom: 0;\n",
       "        line-height: 125%;\n",
       "        font-size: 100%;\n",
       "      }\n",
       "   /* element.style {\n",
       "    } */\n",
       "</style>\n",
       "<script>\n",
       "    MathJax.Hub.Config({\n",
       "                        TeX: {\n",
       "                           extensions: [\"AMSmath.js\"]\n",
       "                           },\n",
       "                tex2jax: {\n",
       "                    inlineMath: [ [\"$\",\"$\"], [\"\\\\(\",\"\\\\)\"] ],\n",
       "                    displayMath: [ [\"$$\",\"$$\"], [\"\\\\[\",\"\\\\]\"] ]\n",
       "                },\n",
       "                displayAlign: \"center\", // Change this to \"center\" to center equations.\n",
       "                \"HTML-CSS\": {\n",
       "                    styles: {\".MathJax_Display\": {\"margin\": 4}}\n",
       "                }\n",
       "        });\n",
       "</script>\n"
      ],
      "text/plain": [
       "<IPython.core.display.HTML object>"
      ]
     },
     "execution_count": 33,
     "metadata": {},
     "output_type": "execute_result"
    }
   ],
   "source": [
    "from IPython.core.display import HTML\n",
    "def  css_styling():\n",
    "    styles = open(\"./custom.css\", \"r\").read()\n",
    "    return HTML(styles)\n",
    "css_styling()"
   ]
  }
 ],
 "metadata": {
  "kernelspec": {
   "display_name": "Python 2",
   "language": "python",
   "name": "python2"
  },
  "language_info": {
   "codemirror_mode": {
    "name": "ipython",
    "version": 2
   },
   "file_extension": ".py",
   "mimetype": "text/x-python",
   "name": "python",
   "nbconvert_exporter": "python",
   "pygments_lexer": "ipython2",
   "version": "2.7.9"
  }
 },
 "nbformat": 4,
 "nbformat_minor": 0
}
